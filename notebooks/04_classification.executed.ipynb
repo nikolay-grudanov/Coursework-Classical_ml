{
 "cells": [
  {
   "cell_type": "markdown",
   "id": "3f6f2cf2",
   "metadata": {},
   "source": [
    "# 04_classification.ipynb\n",
    "\n",
    "Notebook для обучения и оценки классификационных задач (SI_class, CC50_class):\n",
    "\n",
    "- Загружает features `data/feature_engineered_data.csv` или использует `src.models.train_models`\n",
    "- Обучает классификаторы: LogisticRegression, RandomForest\n",
    "- Сохраняет результаты в `models/` и выводит основные метрики"
   ]
  },
  {
   "cell_type": "code",
   "execution_count": 1,
   "id": "aa8a52ad",
   "metadata": {
    "execution": {
     "iopub.execute_input": "2025-08-18T02:02:07.135982Z",
     "iopub.status.busy": "2025-08-18T02:02:07.135341Z",
     "iopub.status.idle": "2025-08-18T02:02:10.317327Z",
     "shell.execute_reply": "2025-08-18T02:02:10.315198Z"
    }
   },
   "outputs": [
    {
     "name": "stdout",
     "output_type": "stream",
     "text": [
      "Classification results keys: dict_keys([])\n"
     ]
    }
   ],
   "source": [
    "# Minimal example to run classification training\n",
    "from pathlib import Path\n",
    "import sys\n",
    "repo_root = Path('..')\n",
    "sys.path.append(str(repo_root / 'src'))\n",
    "\n",
    "from models.train_models import train_classification_tasks\n",
    "\n",
    "feature_path = str(repo_root / 'data' / 'feature_engineered_data.csv')\n",
    "results = train_classification_tasks(save_models=False, feature_path=feature_path)\n",
    "print('Classification results keys:', results.keys())\n"
   ]
  }
 ],
 "metadata": {
  "language_info": {
   "codemirror_mode": {
    "name": "ipython",
    "version": 3
   },
   "file_extension": ".py",
   "mimetype": "text/x-python",
   "name": "python",
   "nbconvert_exporter": "python",
   "pygments_lexer": "ipython3",
   "version": "3.12.7"
  }
 },
 "nbformat": 4,
 "nbformat_minor": 5
}
