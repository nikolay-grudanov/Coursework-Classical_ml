{
 "cells": [
  {
   "cell_type": "markdown",
   "id": "3f6f2cf2",
   "metadata": {},
   "source": [
    "# 04_classification.ipynb\n",
    "\n",
    "Notebook для обучения и оценки классификационных задач (SI_class, CC50_class):\n",
    "\n",
    "- Загружает features `data/feature_engineered_data.csv` или использует `src.models.train_models`\n",
    "- Обучает классификаторы: LogisticRegression, RandomForest\n",
    "- Сохраняет результаты в `models/` и выводит основные метрики"
   ]
  },
  {
   "cell_type": "code",
   "execution_count": null,
   "id": "aa8a52ad",
   "metadata": {},
   "outputs": [],
   "source": [
    "# Minimal example to run classification training\n",
    "from pathlib import Path\n",
    "import sys\n",
    "repo_root = Path('..')\n",
    "sys.path.append(str(repo_root / 'src'))\n",
    "\n",
    "from models.train_models import train_classification_tasks\n",
    "\n",
    "feature_path = str(repo_root / 'data' / 'feature_engineered_data.csv')\n",
    "results = train_classification_tasks(save_models=False, feature_path=feature_path)\n",
    "print('Classification results keys:', results.keys())\n"
   ]
  }
 ],
 "metadata": {
  "language_info": {
   "name": "python"
  }
 },
 "nbformat": 4,
 "nbformat_minor": 5
}
