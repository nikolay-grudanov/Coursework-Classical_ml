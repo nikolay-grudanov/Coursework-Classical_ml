{
 "cells": [
  {
   "cell_type": "markdown",
   "id": "8f88110a",
   "metadata": {},
   "source": [
    "# Regression: IC50\n",
    "\n",
    "Notebook trains regression models for the IC50 target.\n",
    "\n",
    "- Загружает `data/feature_engineered_data.csv`\n",
    "- Находит колонку с IC50 (по подстроке `ic50`, регистр не важен)\n",
    "- Делит на train/test и вызывает `train_regression_models`\n",
    "- Сохраняет результаты в `models/regression_IC50_results.json`"
   ]
  },
  {
   "cell_type": "code",
   "execution_count": 3,
   "id": "6400c92c",
   "metadata": {},
   "outputs": [],
   "source": [
    "from pathlib import Path\n",
    "import sys\n",
    "from IPython.display import display, Markdown\n",
    "import pandas as pd\n",
    "from sklearn.model_selection import train_test_split\n",
    "\n",
    "repo_root = Path('..')\n",
    "sys.path.append(str(repo_root / 'src'))\n",
    "\n",
    "from models.train_models import train_regression_models, save_model_results\n",
    "from utils.pretty_result import pretty_results as pretty_results"
   ]
  },
  {
   "cell_type": "code",
   "execution_count": 2,
   "id": "0293bf09",
   "metadata": {},
   "outputs": [
    {
     "name": "stdout",
     "output_type": "stream",
     "text": [
      "Using target column: IC50, mM\n"
     ]
    }
   ],
   "source": [
    "feature_path = repo_root / 'data' / 'feature_engineered_data.csv'\n",
    "if not feature_path.exists():\n",
    "    raise FileNotFoundError(f'Feature file not found: {feature_path.resolve()}')\n",
    "df = pd.read_csv(feature_path)\n",
    "# find IC50-like column\n",
    "target_col = next((c for c in df.columns if 'ic50' in c.lower()), None)\n",
    "if target_col is None:\n",
    "    raise RuntimeError('No IC50-like column found in feature file')\n",
    "print('Using target column:', target_col)\n",
    "# define features and target\n",
    "feature_cols = [c for c in df.columns if 'ic50' not in c.lower() and not c.lower().endswith('_class')]\n",
    "X = df[feature_cols]\n",
    "y = df[target_col]\n",
    "X_train, X_test, y_train, y_test = train_test_split(X, y, test_size=0.2, random_state=42)\n",
    "results = train_regression_models(X_train, y_train, X_test, y_test, target_col)\n",
    "\n",
    "save_model_results({target_col: results}, 'models/regression_IC50_results.json')"
   ]
  },
  {
   "cell_type": "code",
   "execution_count": 4,
   "id": "b8f9184e",
   "metadata": {},
   "outputs": [
    {
     "data": {
      "text/markdown": [
       "## **Результаты**\n",
       "---"
      ],
      "text/plain": [
       "<IPython.core.display.Markdown object>"
      ]
     },
     "metadata": {},
     "output_type": "display_data"
    },
    {
     "data": {
      "application/vnd.microsoft.datawrangler.viewer.v0+json": {
       "columns": [
        {
         "name": "model",
         "rawType": "object",
         "type": "string"
        },
        {
         "name": "0",
         "rawType": "float64",
         "type": "float"
        }
       ],
       "ref": "a306859f-5047-4d61-96c6-54783c1947dc",
       "rows": [
        [
         "LinearRegression_mse",
         "2817852.8627443374"
        ],
        [
         "LinearRegression_mae",
         "420.9934031173349"
        ],
        [
         "LinearRegression_rmse",
         "1678.6461398234999"
        ],
        [
         "LinearRegression_r2",
         "-7.447833764947484"
        ],
        [
         "Ridge_mse",
         "18000662.549005605"
        ],
        [
         "Ridge_mae",
         "558.4432858988644"
        ],
        [
         "Ridge_rmse",
         "4242.718768549903"
        ],
        [
         "Ridge_r2",
         "-52.965417032036186"
        ],
        [
         "RandomForestRegressor_mse",
         "88333.1178028945"
        ],
        [
         "RandomForestRegressor_mae",
         "52.51289151130137"
        ],
        [
         "RandomForestRegressor_rmse",
         "297.20887907815694"
        ],
        [
         "RandomForestRegressor_r2",
         "0.7351801064546639"
        ],
        [
         "ElasticNet_mse",
         "1414698.3966897952"
        ],
        [
         "ElasticNet_mae",
         "294.79608702540065"
        ],
        [
         "ElasticNet_rmse",
         "1189.410945253908"
        ],
        [
         "ElasticNet_r2",
         "-3.2412210519515128"
        ],
        [
         "ElasticNet_best_params_alpha",
         "0.1"
        ],
        [
         "ElasticNet_best_params_l1_ratio",
         "0.1"
        ]
       ],
       "shape": {
        "columns": 1,
        "rows": 18
       }
      },
      "text/html": [
       "<div>\n",
       "<style scoped>\n",
       "    .dataframe tbody tr th:only-of-type {\n",
       "        vertical-align: middle;\n",
       "    }\n",
       "\n",
       "    .dataframe tbody tr th {\n",
       "        vertical-align: top;\n",
       "    }\n",
       "\n",
       "    .dataframe thead th {\n",
       "        text-align: right;\n",
       "    }\n",
       "</style>\n",
       "<table border=\"1\" class=\"dataframe\">\n",
       "  <thead>\n",
       "    <tr style=\"text-align: right;\">\n",
       "      <th></th>\n",
       "      <th>0</th>\n",
       "    </tr>\n",
       "    <tr>\n",
       "      <th>model</th>\n",
       "      <th></th>\n",
       "    </tr>\n",
       "  </thead>\n",
       "  <tbody>\n",
       "    <tr>\n",
       "      <th>LinearRegression_mse</th>\n",
       "      <td>2.817853e+06</td>\n",
       "    </tr>\n",
       "    <tr>\n",
       "      <th>LinearRegression_mae</th>\n",
       "      <td>4.209934e+02</td>\n",
       "    </tr>\n",
       "    <tr>\n",
       "      <th>LinearRegression_rmse</th>\n",
       "      <td>1.678646e+03</td>\n",
       "    </tr>\n",
       "    <tr>\n",
       "      <th>LinearRegression_r2</th>\n",
       "      <td>-7.447834e+00</td>\n",
       "    </tr>\n",
       "    <tr>\n",
       "      <th>Ridge_mse</th>\n",
       "      <td>1.800066e+07</td>\n",
       "    </tr>\n",
       "    <tr>\n",
       "      <th>Ridge_mae</th>\n",
       "      <td>5.584433e+02</td>\n",
       "    </tr>\n",
       "    <tr>\n",
       "      <th>Ridge_rmse</th>\n",
       "      <td>4.242719e+03</td>\n",
       "    </tr>\n",
       "    <tr>\n",
       "      <th>Ridge_r2</th>\n",
       "      <td>-5.296542e+01</td>\n",
       "    </tr>\n",
       "    <tr>\n",
       "      <th>RandomForestRegressor_mse</th>\n",
       "      <td>8.833312e+04</td>\n",
       "    </tr>\n",
       "    <tr>\n",
       "      <th>RandomForestRegressor_mae</th>\n",
       "      <td>5.251289e+01</td>\n",
       "    </tr>\n",
       "    <tr>\n",
       "      <th>RandomForestRegressor_rmse</th>\n",
       "      <td>2.972089e+02</td>\n",
       "    </tr>\n",
       "    <tr>\n",
       "      <th>RandomForestRegressor_r2</th>\n",
       "      <td>7.351801e-01</td>\n",
       "    </tr>\n",
       "    <tr>\n",
       "      <th>ElasticNet_mse</th>\n",
       "      <td>1.414698e+06</td>\n",
       "    </tr>\n",
       "    <tr>\n",
       "      <th>ElasticNet_mae</th>\n",
       "      <td>2.947961e+02</td>\n",
       "    </tr>\n",
       "    <tr>\n",
       "      <th>ElasticNet_rmse</th>\n",
       "      <td>1.189411e+03</td>\n",
       "    </tr>\n",
       "    <tr>\n",
       "      <th>ElasticNet_r2</th>\n",
       "      <td>-3.241221e+00</td>\n",
       "    </tr>\n",
       "    <tr>\n",
       "      <th>ElasticNet_best_params_alpha</th>\n",
       "      <td>1.000000e-01</td>\n",
       "    </tr>\n",
       "    <tr>\n",
       "      <th>ElasticNet_best_params_l1_ratio</th>\n",
       "      <td>1.000000e-01</td>\n",
       "    </tr>\n",
       "  </tbody>\n",
       "</table>\n",
       "</div>"
      ],
      "text/plain": [
       "                                            0\n",
       "model                                        \n",
       "LinearRegression_mse             2.817853e+06\n",
       "LinearRegression_mae             4.209934e+02\n",
       "LinearRegression_rmse            1.678646e+03\n",
       "LinearRegression_r2             -7.447834e+00\n",
       "Ridge_mse                        1.800066e+07\n",
       "Ridge_mae                        5.584433e+02\n",
       "Ridge_rmse                       4.242719e+03\n",
       "Ridge_r2                        -5.296542e+01\n",
       "RandomForestRegressor_mse        8.833312e+04\n",
       "RandomForestRegressor_mae        5.251289e+01\n",
       "RandomForestRegressor_rmse       2.972089e+02\n",
       "RandomForestRegressor_r2         7.351801e-01\n",
       "ElasticNet_mse                   1.414698e+06\n",
       "ElasticNet_mae                   2.947961e+02\n",
       "ElasticNet_rmse                  1.189411e+03\n",
       "ElasticNet_r2                   -3.241221e+00\n",
       "ElasticNet_best_params_alpha     1.000000e-01\n",
       "ElasticNet_best_params_l1_ratio  1.000000e-01"
      ]
     },
     "metadata": {},
     "output_type": "display_data"
    }
   ],
   "source": [
    "display(Markdown(\"## **Результаты**\\n---\"))\n",
    "pretty_results(results)"
   ]
  }
 ],
 "metadata": {
  "kernelspec": {
   "display_name": "ml",
   "language": "python",
   "name": "python3"
  },
  "language_info": {
   "codemirror_mode": {
    "name": "ipython",
    "version": 3
   },
   "file_extension": ".py",
   "mimetype": "text/x-python",
   "name": "python",
   "nbconvert_exporter": "python",
   "pygments_lexer": "ipython3",
   "version": "3.12.7"
  }
 },
 "nbformat": 4,
 "nbformat_minor": 5
}
