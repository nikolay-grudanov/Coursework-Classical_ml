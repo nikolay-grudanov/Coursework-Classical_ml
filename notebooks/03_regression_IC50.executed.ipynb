{
 "cells": [
  {
   "cell_type": "markdown",
   "id": "8f88110a",
   "metadata": {},
   "source": [
    "# Regression: IC50\n",
    "\n",
    "Notebook trains regression models for the IC50 target.\n",
    "\n",
    "- Загружает `data/feature_engineered_data.csv`\n",
    "- Находит колонку с IC50 (по подстроке `ic50`, регистр не важен)\n",
    "- Делит на train/test и вызывает `train_regression_models`\n",
    "- Сохраняет результаты в `models/regression_IC50_results.json`"
   ]
  },
  {
   "cell_type": "code",
   "execution_count": 1,
   "id": "0293bf09",
   "metadata": {
    "execution": {
     "iopub.execute_input": "2025-08-18T00:31:02.209124Z",
     "iopub.status.busy": "2025-08-18T00:31:02.208489Z",
     "iopub.status.idle": "2025-08-18T00:39:01.742748Z",
     "shell.execute_reply": "2025-08-18T00:39:01.581958Z"
    }
   },
   "outputs": [
    {
     "name": "stdout",
     "output_type": "stream",
     "text": [
      "Using target column: IC50, mM\n"
     ]
    },
    {
     "name": "stdout",
     "output_type": "stream",
     "text": [
      "Results for IC50 target:\n",
      "{'LinearRegression': {'mse': 2817852.8627443374, 'mae': 420.9934031173349, 'rmse': 1678.6461398234999, 'r2': -7.447833764947484}, 'Ridge': {'mse': 18000662.549005605, 'mae': 558.4432858988644, 'rmse': 4242.718768549903, 'r2': -52.965417032036186}, 'RandomForestRegressor': {'mse': 88333.1178028945, 'mae': 52.51289151130137, 'rmse': 297.20887907815694, 'r2': 0.7351801064546639}, 'ElasticNet': {'mse': 1414698.3966897952, 'mae': 294.79608702540065, 'rmse': 1189.410945253908, 'r2': -3.2412210519515128, 'best_params': {'alpha': 0.1, 'l1_ratio': 0.1}}}\n"
     ]
    }
   ],
   "source": [
    "from pathlib import Path\n",
    "import sys\n",
    "import pandas as pd\n",
    "from sklearn.model_selection import train_test_split\n",
    "\n",
    "repo_root = Path('..')\n",
    "sys.path.append(str(repo_root / 'src'))\n",
    "\n",
    "from models.train_models import train_regression_models, save_model_results\n",
    "\n",
    "feature_path = repo_root / 'data' / 'feature_engineered_data.csv'\n",
    "if not feature_path.exists():\n",
    "    raise FileNotFoundError(f'Feature file not found: {feature_path.resolve()}')\n",
    "df = pd.read_csv(feature_path)\n",
    "# find IC50-like column\n",
    "target_col = next((c for c in df.columns if 'ic50' in c.lower()), None)\n",
    "if target_col is None:\n",
    "    raise RuntimeError('No IC50-like column found in feature file')\n",
    "print('Using target column:', target_col)\n",
    "# define features and target\n",
    "feature_cols = [c for c in df.columns if 'ic50' not in c.lower() and not c.lower().endswith('_class')]\n",
    "X = df[feature_cols]\n",
    "y = df[target_col]\n",
    "X_train, X_test, y_train, y_test = train_test_split(X, y, test_size=0.2, random_state=42)\n",
    "results = train_regression_models(X_train, y_train, X_test, y_test, target_col)\n",
    "print('Results for IC50 target:')\n",
    "print(results)\n",
    "save_model_results({target_col: results}, 'models/regression_IC50_results.json')"
   ]
  }
 ],
 "metadata": {
  "language_info": {
   "codemirror_mode": {
    "name": "ipython",
    "version": 3
   },
   "file_extension": ".py",
   "mimetype": "text/x-python",
   "name": "python",
   "nbconvert_exporter": "python",
   "pygments_lexer": "ipython3",
   "version": "3.12.7"
  }
 },
 "nbformat": 4,
 "nbformat_minor": 5
}
