{
 "cells": [
  {
   "cell_type": "markdown",
   "id": "92a5d925",
   "metadata": {},
   "source": [
    "# Regression: CC50\n",
    "\n",
    "Notebook trains regression models for the CC50 target.\n",
    "\n",
    "- Загружает `data/feature_engineered_data.csv`\n",
    "- Находит колонку с CC50 (по подстроке `cc50`, регистр не важен)\n",
    "- Делит на train/test и вызывает `train_regression_models`\n",
    "- Сохраняет результаты в `models/regression_CC50_results.json`"
   ]
  },
  {
   "cell_type": "code",
   "execution_count": 1,
   "id": "8540e054",
   "metadata": {},
   "outputs": [],
   "source": [
    "from IPython.display import display, Markdown\n",
    "from pathlib import Path\n",
    "import sys\n",
    "repo_root = Path('..')\n",
    "sys.path.append(str(repo_root / 'src'))\n",
    "import pandas as pd\n",
    "from sklearn.model_selection import train_test_split\n",
    "from models.train_models import train_regression_models, save_model_results\n",
    "from utils.pretty_result import pretty_results as pretty_results\n"
   ]
  },
  {
   "cell_type": "code",
   "execution_count": null,
   "id": "fd46339d",
   "metadata": {},
   "outputs": [
    {
     "name": "stdout",
     "output_type": "stream",
     "text": [
      "Using target column: CC50, mM\n"
     ]
    }
   ],
   "source": [
    "feature_path = repo_root / 'data' / 'feature_engineered_data.csv'\n",
    "if not feature_path.exists():\n",
    "    raise FileNotFoundError(f'Feature file not found: {feature_path.resolve()}')\n",
    "df = pd.read_csv(feature_path)\n",
    "# find CC50-like column\n",
    "target_col = next((c for c in df.columns if 'cc50' in c.lower()), None)\n",
    "if target_col is None:\n",
    "    raise RuntimeError('No CC50-like column found in feature file')\n",
    "print('Using target column:', target_col)\n",
    "# define features and target\n",
    "feature_cols = [c for c in df.columns if 'cc50' not in c.lower() and not c.lower().endswith('_class')]\n",
    "X = df[feature_cols]\n",
    "y = df[target_col]\n",
    "X_train, X_test, y_train, y_test = train_test_split(X, y, test_size=0.2, random_state=42)\n",
    "results = train_regression_models(X_train, y_train, X_test, y_test, target_col)\n",
    "save_model_results({target_col: results}, 'models/regression_CC50_results.json')"
   ]
  },
  {
   "cell_type": "code",
   "execution_count": null,
   "id": "482ea143",
   "metadata": {},
   "outputs": [],
   "source": [
    "display(Markdown(\"## **Результаты**\\n---\"))\n",
    "pretty_results(results)"
   ]
  }
 ],
 "metadata": {
  "kernelspec": {
   "display_name": "ml",
   "language": "python",
   "name": "python3"
  },
  "language_info": {
   "codemirror_mode": {
    "name": "ipython",
    "version": 3
   },
   "file_extension": ".py",
   "mimetype": "text/x-python",
   "name": "python",
   "nbconvert_exporter": "python",
   "pygments_lexer": "ipython3",
   "version": "3.12.7"
  }
 },
 "nbformat": 4,
 "nbformat_minor": 5
}
