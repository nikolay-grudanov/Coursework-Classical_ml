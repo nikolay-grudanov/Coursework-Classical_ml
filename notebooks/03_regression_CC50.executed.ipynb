{
 "cells": [
  {
   "cell_type": "markdown",
   "id": "92a5d925",
   "metadata": {},
   "source": [
    "# Regression: CC50\n",
    "\n",
    "Notebook trains regression models for the CC50 target.\n",
    "\n",
    "- Загружает `data/feature_engineered_data.csv`\n",
    "- Находит колонку с CC50 (по подстроке `cc50`, регистр не важен)\n",
    "- Делит на train/test и вызывает `train_regression_models`\n",
    "- Сохраняет результаты в `models/regression_CC50_results.json`"
   ]
  },
  {
   "cell_type": "code",
   "execution_count": 1,
   "id": "fd46339d",
   "metadata": {
    "execution": {
     "iopub.execute_input": "2025-08-18T00:39:27.503249Z",
     "iopub.status.busy": "2025-08-18T00:39:27.502593Z",
     "iopub.status.idle": "2025-08-18T00:41:54.325634Z",
     "shell.execute_reply": "2025-08-18T00:41:54.320005Z"
    }
   },
   "outputs": [
    {
     "name": "stdout",
     "output_type": "stream",
     "text": [
      "Using target column: CC50, mM\n"
     ]
    },
    {
     "name": "stderr",
     "output_type": "stream",
     "text": [
      "/home/mrr/miniconda3/envs/ml/lib/python3.12/site-packages/sklearn/linear_model/_coordinate_descent.py:695: ConvergenceWarning: Objective did not converge. You might want to increase the number of iterations, check the scale of the features or consider increasing regularisation. Duality gap: 2.425e+05, tolerance: 2.318e+04\n",
      "  model = cd_fast.enet_coordinate_descent(\n"
     ]
    },
    {
     "name": "stderr",
     "output_type": "stream",
     "text": [
      "/home/mrr/miniconda3/envs/ml/lib/python3.12/site-packages/sklearn/linear_model/_coordinate_descent.py:695: ConvergenceWarning: Objective did not converge. You might want to increase the number of iterations, check the scale of the features or consider increasing regularisation. Duality gap: 1.234e+05, tolerance: 2.722e+04\n",
      "  model = cd_fast.enet_coordinate_descent(\n"
     ]
    },
    {
     "name": "stderr",
     "output_type": "stream",
     "text": [
      "/home/mrr/miniconda3/envs/ml/lib/python3.12/site-packages/sklearn/linear_model/_coordinate_descent.py:695: ConvergenceWarning: Objective did not converge. You might want to increase the number of iterations, check the scale of the features or consider increasing regularisation. Duality gap: 1.985e+07, tolerance: 2.424e+04\n",
      "  model = cd_fast.enet_coordinate_descent(\n"
     ]
    },
    {
     "name": "stderr",
     "output_type": "stream",
     "text": [
      "/home/mrr/miniconda3/envs/ml/lib/python3.12/site-packages/sklearn/linear_model/_coordinate_descent.py:695: ConvergenceWarning: Objective did not converge. You might want to increase the number of iterations, check the scale of the features or consider increasing regularisation. Duality gap: 1.345e+05, tolerance: 2.466e+04\n",
      "  model = cd_fast.enet_coordinate_descent(\n"
     ]
    },
    {
     "name": "stderr",
     "output_type": "stream",
     "text": [
      "/home/mrr/miniconda3/envs/ml/lib/python3.12/site-packages/sklearn/linear_model/_coordinate_descent.py:695: ConvergenceWarning: Objective did not converge. You might want to increase the number of iterations, check the scale of the features or consider increasing regularisation. Duality gap: 1.459e+07, tolerance: 2.399e+04\n",
      "  model = cd_fast.enet_coordinate_descent(\n"
     ]
    },
    {
     "name": "stderr",
     "output_type": "stream",
     "text": [
      "/home/mrr/miniconda3/envs/ml/lib/python3.12/site-packages/sklearn/linear_model/_coordinate_descent.py:695: ConvergenceWarning: Objective did not converge. You might want to increase the number of iterations, check the scale of the features or consider increasing regularisation. Duality gap: 2.450e+07, tolerance: 2.318e+04\n",
      "  model = cd_fast.enet_coordinate_descent(\n"
     ]
    },
    {
     "name": "stderr",
     "output_type": "stream",
     "text": [
      "/home/mrr/miniconda3/envs/ml/lib/python3.12/site-packages/sklearn/linear_model/_coordinate_descent.py:695: ConvergenceWarning: Objective did not converge. You might want to increase the number of iterations, check the scale of the features or consider increasing regularisation. Duality gap: 2.528e+07, tolerance: 2.466e+04\n",
      "  model = cd_fast.enet_coordinate_descent(\n"
     ]
    },
    {
     "name": "stderr",
     "output_type": "stream",
     "text": [
      "/home/mrr/miniconda3/envs/ml/lib/python3.12/site-packages/sklearn/linear_model/_coordinate_descent.py:695: ConvergenceWarning: Objective did not converge. You might want to increase the number of iterations, check the scale of the features or consider increasing regularisation. Duality gap: 3.119e+07, tolerance: 2.722e+04\n",
      "  model = cd_fast.enet_coordinate_descent(\n"
     ]
    },
    {
     "name": "stdout",
     "output_type": "stream",
     "text": [
      "Results for CC50 target:\n",
      "{'LinearRegression': {'mse': 228856.82397461063, 'mae': 343.53405282313736, 'rmse': 478.3898242799596, 'r2': 0.5585750803222591}, 'Ridge': {'mse': 204398.00777907306, 'mae': 323.40213282471706, 'rmse': 452.1039789462962, 'r2': 0.6057518731616354}, 'RandomForestRegressor': {'mse': 103376.75419147035, 'mae': 126.64170889730003, 'rmse': 321.52255627167176, 'r2': 0.8006042615509779}, 'ElasticNet': {'mse': 190645.6693180309, 'mae': 312.31709433694164, 'rmse': 436.6298997068695, 'r2': 0.632277736778532, 'best_params': {'alpha': 0.1, 'l1_ratio': 0.9}}}\n"
     ]
    }
   ],
   "source": [
    "from pathlib import Path\n",
    "import sys\n",
    "import pandas as pd\n",
    "from sklearn.model_selection import train_test_split\n",
    "\n",
    "repo_root = Path('..')\n",
    "sys.path.append(str(repo_root / 'src'))\n",
    "\n",
    "from models.train_models import train_regression_models, save_model_results\n",
    "\n",
    "feature_path = repo_root / 'data' / 'feature_engineered_data.csv'\n",
    "if not feature_path.exists():\n",
    "    raise FileNotFoundError(f'Feature file not found: {feature_path.resolve()}')\n",
    "df = pd.read_csv(feature_path)\n",
    "# find CC50-like column\n",
    "target_col = next((c for c in df.columns if 'cc50' in c.lower()), None)\n",
    "if target_col is None:\n",
    "    raise RuntimeError('No CC50-like column found in feature file')\n",
    "print('Using target column:', target_col)\n",
    "# define features and target\n",
    "feature_cols = [c for c in df.columns if 'cc50' not in c.lower() and not c.lower().endswith('_class')]\n",
    "X = df[feature_cols]\n",
    "y = df[target_col]\n",
    "X_train, X_test, y_train, y_test = train_test_split(X, y, test_size=0.2, random_state=42)\n",
    "results = train_regression_models(X_train, y_train, X_test, y_test, target_col)\n",
    "print('Results for CC50 target:')\n",
    "print(results)\n",
    "save_model_results({target_col: results}, 'models/regression_CC50_results.json')"
   ]
  }
 ],
 "metadata": {
  "language_info": {
   "codemirror_mode": {
    "name": "ipython",
    "version": 3
   },
   "file_extension": ".py",
   "mimetype": "text/x-python",
   "name": "python",
   "nbconvert_exporter": "python",
   "pygments_lexer": "ipython3",
   "version": "3.12.7"
  }
 },
 "nbformat": 4,
 "nbformat_minor": 5
}
