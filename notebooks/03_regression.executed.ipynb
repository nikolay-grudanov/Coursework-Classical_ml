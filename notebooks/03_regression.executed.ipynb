{
 "cells": [
  {
   "cell_type": "markdown",
   "id": "44d395a3",
   "metadata": {},
   "source": [
    "# 03_regression.ipynb\n",
    "\n",
    "Notebook для обучения и оценки регрессионных задач (IC50, CC50, SI):\n",
    "\n",
    "- Загружает features `data/feature_engineered_data.csv` или использует `src.models.train_models`\n",
    "- Обучает модели: Ridge, ElasticNet, RandomForest\n",
    "- Сохраняет результаты в `models/` и выводит основные метрики"
   ]
  },
  {
   "cell_type": "code",
   "execution_count": 1,
   "id": "9276b8be",
   "metadata": {
    "execution": {
     "iopub.execute_input": "2025-08-18T02:00:16.325622Z",
     "iopub.status.busy": "2025-08-18T02:00:16.324907Z",
     "iopub.status.idle": "2025-08-18T02:01:48.888233Z",
     "shell.execute_reply": "2025-08-18T02:01:48.885131Z"
    }
   },
   "outputs": [
    {
     "name": "stderr",
     "output_type": "stream",
     "text": [
      "/home/mrr/miniconda3/envs/ml/lib/python3.12/site-packages/sklearn/linear_model/_coordinate_descent.py:695: ConvergenceWarning: Objective did not converge. You might want to increase the number of iterations, check the scale of the features or consider increasing regularisation. Duality gap: 4.533e+05, tolerance: 5.835e+03\n",
      "  model = cd_fast.enet_coordinate_descent(\n"
     ]
    },
    {
     "name": "stderr",
     "output_type": "stream",
     "text": [
      "/home/mrr/miniconda3/envs/ml/lib/python3.12/site-packages/sklearn/linear_model/_coordinate_descent.py:695: ConvergenceWarning: Objective did not converge. You might want to increase the number of iterations, check the scale of the features or consider increasing regularisation. Duality gap: 3.665e+05, tolerance: 4.491e+03\n",
      "  model = cd_fast.enet_coordinate_descent(\n"
     ]
    },
    {
     "name": "stderr",
     "output_type": "stream",
     "text": [
      "/home/mrr/miniconda3/envs/ml/lib/python3.12/site-packages/sklearn/linear_model/_coordinate_descent.py:695: ConvergenceWarning: Objective did not converge. You might want to increase the number of iterations, check the scale of the features or consider increasing regularisation. Duality gap: 3.224e+05, tolerance: 2.873e+03\n",
      "  model = cd_fast.enet_coordinate_descent(\n"
     ]
    },
    {
     "name": "stderr",
     "output_type": "stream",
     "text": [
      "/home/mrr/miniconda3/envs/ml/lib/python3.12/site-packages/sklearn/linear_model/_coordinate_descent.py:695: ConvergenceWarning: Objective did not converge. You might want to increase the number of iterations, check the scale of the features or consider increasing regularisation. Duality gap: 1.325e+06, tolerance: 5.642e+03\n",
      "  model = cd_fast.enet_coordinate_descent(\n"
     ]
    },
    {
     "name": "stdout",
     "output_type": "stream",
     "text": [
      "Results keys: dict_keys(['SI'])\n"
     ]
    }
   ],
   "source": [
    "# Minimal example to run training for regressions\n",
    "from pathlib import Path\n",
    "import sys\n",
    "repo_root = Path('..')\n",
    "sys.path.append(str(repo_root / 'src'))\n",
    "\n",
    "from models.train_models import train_regression_tasks\n",
    "\n",
    "# pass explicit feature_path (notebooks run with cwd=notebooks/)\n",
    "feature_path = str(repo_root / 'data' / 'feature_engineered_data.csv')\n",
    "results = train_regression_tasks(save_models=False, feature_path=feature_path)\n",
    "print('Results keys:', results.keys())\n"
   ]
  }
 ],
 "metadata": {
  "language_info": {
   "codemirror_mode": {
    "name": "ipython",
    "version": 3
   },
   "file_extension": ".py",
   "mimetype": "text/x-python",
   "name": "python",
   "nbconvert_exporter": "python",
   "pygments_lexer": "ipython3",
   "version": "3.12.7"
  }
 },
 "nbformat": 4,
 "nbformat_minor": 5
}
