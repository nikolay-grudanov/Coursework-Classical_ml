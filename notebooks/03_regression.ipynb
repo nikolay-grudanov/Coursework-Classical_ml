{
 "cells": [
  {
   "cell_type": "markdown",
   "id": "44d395a3",
   "metadata": {},
   "source": [
    "# 03_regression.ipynb\n",
    "\n",
    "Notebook для обучения и оценки регрессионных задач (IC50, CC50, SI):\n",
    "\n",
    "- Загружает features `data/feature_engineered_data.csv` или использует `src.models.train_models`\n",
    "- Обучает модели: Ridge, ElasticNet, RandomForest\n",
    "- Сохраняет результаты в `models/` и выводит основные метрики"
   ]
  },
  {
   "cell_type": "code",
   "execution_count": null,
   "id": "9276b8be",
   "metadata": {},
   "outputs": [],
   "source": [
    "# Minimal example to run training for regressions\n",
    "from pathlib import Path\n",
    "import sys\n",
    "repo_root = Path('..')\n",
    "sys.path.append(str(repo_root / 'src'))\n",
    "\n",
    "from models.train_models import train_regression_tasks\n",
    "\n",
    "# pass explicit feature_path (notebooks run with cwd=notebooks/)\n",
    "feature_path = str(repo_root / 'data' / 'feature_engineered_data.csv')\n",
    "results = train_regression_tasks(save_models=False, feature_path=feature_path)\n",
    "print('Results keys:', results.keys())\n"
   ]
  }
 ],
 "metadata": {
  "language_info": {
   "name": "python"
  }
 },
 "nbformat": 4,
 "nbformat_minor": 5
}
