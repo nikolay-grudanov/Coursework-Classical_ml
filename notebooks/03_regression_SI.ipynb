{
 "cells": [
  {
   "cell_type": "markdown",
   "id": "7356dbd7",
   "metadata": {},
   "source": [
    "# Regression: SI\n",
    "\n",
    "Notebook trains regression models for the SI target.\n",
    "\n",
    "- Загружает `data/feature_engineered_data.csv`\n",
    "- Находит колонку с SI (по подстроке `si`, регистр не важен)\n",
    "- Делит на train/test и вызывает `train_regression_models`\n",
    "- Сохраняет результаты в `models/regression_SI_results.json`"
   ]
  },
  {
   "cell_type": "code",
   "execution_count": 1,
   "id": "72c59bf0",
   "metadata": {},
   "outputs": [],
   "source": [
    "from IPython.display import display, Markdown\n",
    "from pathlib import Path\n",
    "import sys\n",
    "repo_root = Path('..')\n",
    "sys.path.append(str(repo_root / 'src'))\n",
    "import pandas as pd\n",
    "from sklearn.model_selection import train_test_split\n",
    "from models.train_models import train_regression_models, save_model_results\n",
    "from utils.pretty_result import pretty_results as pretty_results\n"
   ]
  },
  {
   "cell_type": "code",
   "execution_count": null,
   "id": "0fe9629b",
   "metadata": {},
   "outputs": [
    {
     "name": "stdout",
     "output_type": "stream",
     "text": [
      "Using target column: SI\n"
     ]
    },
    {
     "name": "stderr",
     "output_type": "stream",
     "text": [
      "/home/mrr/miniconda3/envs/ml/lib/python3.12/site-packages/sklearn/linear_model/_coordinate_descent.py:695: ConvergenceWarning: Objective did not converge. You might want to increase the number of iterations, check the scale of the features or consider increasing regularisation. Duality gap: 4.533e+05, tolerance: 5.835e+03\n",
      "  model = cd_fast.enet_coordinate_descent(\n",
      "/home/mrr/miniconda3/envs/ml/lib/python3.12/site-packages/sklearn/linear_model/_coordinate_descent.py:695: ConvergenceWarning: Objective did not converge. You might want to increase the number of iterations, check the scale of the features or consider increasing regularisation. Duality gap: 3.665e+05, tolerance: 4.491e+03\n",
      "  model = cd_fast.enet_coordinate_descent(\n",
      "/home/mrr/miniconda3/envs/ml/lib/python3.12/site-packages/sklearn/linear_model/_coordinate_descent.py:695: ConvergenceWarning: Objective did not converge. You might want to increase the number of iterations, check the scale of the features or consider increasing regularisation. Duality gap: 3.665e+05, tolerance: 4.491e+03\n",
      "  model = cd_fast.enet_coordinate_descent(\n",
      "/home/mrr/miniconda3/envs/ml/lib/python3.12/site-packages/sklearn/linear_model/_coordinate_descent.py:695: ConvergenceWarning: Objective did not converge. You might want to increase the number of iterations, check the scale of the features or consider increasing regularisation. Duality gap: 3.224e+05, tolerance: 2.873e+03\n",
      "  model = cd_fast.enet_coordinate_descent(\n",
      "/home/mrr/miniconda3/envs/ml/lib/python3.12/site-packages/sklearn/linear_model/_coordinate_descent.py:695: ConvergenceWarning: Objective did not converge. You might want to increase the number of iterations, check the scale of the features or consider increasing regularisation. Duality gap: 3.224e+05, tolerance: 2.873e+03\n",
      "  model = cd_fast.enet_coordinate_descent(\n",
      "/home/mrr/miniconda3/envs/ml/lib/python3.12/site-packages/sklearn/linear_model/_coordinate_descent.py:695: ConvergenceWarning: Objective did not converge. You might want to increase the number of iterations, check the scale of the features or consider increasing regularisation. Duality gap: 1.325e+06, tolerance: 5.642e+03\n",
      "  model = cd_fast.enet_coordinate_descent(\n",
      "/home/mrr/miniconda3/envs/ml/lib/python3.12/site-packages/sklearn/linear_model/_coordinate_descent.py:695: ConvergenceWarning: Objective did not converge. You might want to increase the number of iterations, check the scale of the features or consider increasing regularisation. Duality gap: 1.325e+06, tolerance: 5.642e+03\n",
      "  model = cd_fast.enet_coordinate_descent(\n"
     ]
    }
   ],
   "source": [
    "feature_path = repo_root / 'data' / 'feature_engineered_data.csv'\n",
    "if not feature_path.exists():\n",
    "    raise FileNotFoundError(f'Feature file not found: {feature_path.resolve()}')\n",
    "df = pd.read_csv(feature_path)\n",
    "# find SI-like column\n",
    "target_col = next((c for c in df.columns if 'si' == c.lower() or c.lower() == 'si' or ' si ' in c.lower()), None)\n",
    "if target_col is None:\n",
    "    # fallback: try exact 'SI'\n",
    "    if 'SI' in df.columns:\n",
    "        target_col = 'SI'\n",
    "if target_col is None:\n",
    "    raise RuntimeError('No SI-like column found in feature file')\n",
    "print('Using target column:', target_col)\n",
    "# define features and target\n",
    "feature_cols = [c for c in df.columns if c.lower() != 'si' and not c.lower().endswith('_class')]\n",
    "X = df[feature_cols]\n",
    "y = df[target_col]\n",
    "X_train, X_test, y_train, y_test = train_test_split(X, y, test_size=0.2, random_state=42)\n",
    "results = train_regression_models(X_train, y_train, X_test, y_test, target_col)\n",
    "\n",
    "save_model_results({target_col: results}, 'models/regression_SI_results.json')"
   ]
  },
  {
   "cell_type": "code",
   "execution_count": 32,
   "id": "6f7b9391",
   "metadata": {},
   "outputs": [
    {
     "data": {
      "text/markdown": [
       "## **Результаты**\n",
       "---"
      ],
      "text/plain": [
       "<IPython.core.display.Markdown object>"
      ]
     },
     "metadata": {},
     "output_type": "display_data"
    },
    {
     "data": {
      "application/vnd.microsoft.datawrangler.viewer.v0+json": {
       "columns": [
        {
         "name": "model",
         "rawType": "object",
         "type": "string"
        },
        {
         "name": "0",
         "rawType": "float64",
         "type": "float"
        }
       ],
       "ref": "1f4b39dd-4a95-40e5-972a-413f7c59368f",
       "rows": [
        [
         "LinearRegression_mse",
         "1858081.6664771342"
        ],
        [
         "LinearRegression_mae",
         "224.0804014544479"
        ],
        [
         "LinearRegression_rmse",
         "1363.114693075067"
        ],
        [
         "LinearRegression_r2",
         "0.07497365866004235"
        ],
        [
         "Ridge_mse",
         "1862808.5818987524"
        ],
        [
         "Ridge_mae",
         "219.56811996981995"
        ],
        [
         "Ridge_rmse",
         "1364.847457373443"
        ],
        [
         "Ridge_r2",
         "0.07262041372082872"
        ],
        [
         "RandomForestRegressor_mse",
         "1275882.9361457638"
        ],
        [
         "RandomForestRegressor_mae",
         "135.65111313064287"
        ],
        [
         "RandomForestRegressor_rmse",
         "1129.5498820971848"
        ],
        [
         "RandomForestRegressor_r2",
         "0.36481515011195953"
        ],
        [
         "ElasticNet_mse",
         "1934187.5815760936"
        ],
        [
         "ElasticNet_mae",
         "208.54806059103947"
        ],
        [
         "ElasticNet_rmse",
         "1390.7507258945054"
        ],
        [
         "ElasticNet_r2",
         "0.037085132300597734"
        ],
        [
         "ElasticNet_best_params_alpha",
         "1.0"
        ],
        [
         "ElasticNet_best_params_l1_ratio",
         "0.1"
        ]
       ],
       "shape": {
        "columns": 1,
        "rows": 18
       }
      },
      "text/html": [
       "<div>\n",
       "<style scoped>\n",
       "    .dataframe tbody tr th:only-of-type {\n",
       "        vertical-align: middle;\n",
       "    }\n",
       "\n",
       "    .dataframe tbody tr th {\n",
       "        vertical-align: top;\n",
       "    }\n",
       "\n",
       "    .dataframe thead th {\n",
       "        text-align: right;\n",
       "    }\n",
       "</style>\n",
       "<table border=\"1\" class=\"dataframe\">\n",
       "  <thead>\n",
       "    <tr style=\"text-align: right;\">\n",
       "      <th></th>\n",
       "      <th>0</th>\n",
       "    </tr>\n",
       "    <tr>\n",
       "      <th>model</th>\n",
       "      <th></th>\n",
       "    </tr>\n",
       "  </thead>\n",
       "  <tbody>\n",
       "    <tr>\n",
       "      <th>LinearRegression_mse</th>\n",
       "      <td>1.858082e+06</td>\n",
       "    </tr>\n",
       "    <tr>\n",
       "      <th>LinearRegression_mae</th>\n",
       "      <td>2.240804e+02</td>\n",
       "    </tr>\n",
       "    <tr>\n",
       "      <th>LinearRegression_rmse</th>\n",
       "      <td>1.363115e+03</td>\n",
       "    </tr>\n",
       "    <tr>\n",
       "      <th>LinearRegression_r2</th>\n",
       "      <td>7.497366e-02</td>\n",
       "    </tr>\n",
       "    <tr>\n",
       "      <th>Ridge_mse</th>\n",
       "      <td>1.862809e+06</td>\n",
       "    </tr>\n",
       "    <tr>\n",
       "      <th>Ridge_mae</th>\n",
       "      <td>2.195681e+02</td>\n",
       "    </tr>\n",
       "    <tr>\n",
       "      <th>Ridge_rmse</th>\n",
       "      <td>1.364847e+03</td>\n",
       "    </tr>\n",
       "    <tr>\n",
       "      <th>Ridge_r2</th>\n",
       "      <td>7.262041e-02</td>\n",
       "    </tr>\n",
       "    <tr>\n",
       "      <th>RandomForestRegressor_mse</th>\n",
       "      <td>1.275883e+06</td>\n",
       "    </tr>\n",
       "    <tr>\n",
       "      <th>RandomForestRegressor_mae</th>\n",
       "      <td>1.356511e+02</td>\n",
       "    </tr>\n",
       "    <tr>\n",
       "      <th>RandomForestRegressor_rmse</th>\n",
       "      <td>1.129550e+03</td>\n",
       "    </tr>\n",
       "    <tr>\n",
       "      <th>RandomForestRegressor_r2</th>\n",
       "      <td>3.648152e-01</td>\n",
       "    </tr>\n",
       "    <tr>\n",
       "      <th>ElasticNet_mse</th>\n",
       "      <td>1.934188e+06</td>\n",
       "    </tr>\n",
       "    <tr>\n",
       "      <th>ElasticNet_mae</th>\n",
       "      <td>2.085481e+02</td>\n",
       "    </tr>\n",
       "    <tr>\n",
       "      <th>ElasticNet_rmse</th>\n",
       "      <td>1.390751e+03</td>\n",
       "    </tr>\n",
       "    <tr>\n",
       "      <th>ElasticNet_r2</th>\n",
       "      <td>3.708513e-02</td>\n",
       "    </tr>\n",
       "    <tr>\n",
       "      <th>ElasticNet_best_params_alpha</th>\n",
       "      <td>1.000000e+00</td>\n",
       "    </tr>\n",
       "    <tr>\n",
       "      <th>ElasticNet_best_params_l1_ratio</th>\n",
       "      <td>1.000000e-01</td>\n",
       "    </tr>\n",
       "  </tbody>\n",
       "</table>\n",
       "</div>"
      ],
      "text/plain": [
       "                                            0\n",
       "model                                        \n",
       "LinearRegression_mse             1.858082e+06\n",
       "LinearRegression_mae             2.240804e+02\n",
       "LinearRegression_rmse            1.363115e+03\n",
       "LinearRegression_r2              7.497366e-02\n",
       "Ridge_mse                        1.862809e+06\n",
       "Ridge_mae                        2.195681e+02\n",
       "Ridge_rmse                       1.364847e+03\n",
       "Ridge_r2                         7.262041e-02\n",
       "RandomForestRegressor_mse        1.275883e+06\n",
       "RandomForestRegressor_mae        1.356511e+02\n",
       "RandomForestRegressor_rmse       1.129550e+03\n",
       "RandomForestRegressor_r2         3.648152e-01\n",
       "ElasticNet_mse                   1.934188e+06\n",
       "ElasticNet_mae                   2.085481e+02\n",
       "ElasticNet_rmse                  1.390751e+03\n",
       "ElasticNet_r2                    3.708513e-02\n",
       "ElasticNet_best_params_alpha     1.000000e+00\n",
       "ElasticNet_best_params_l1_ratio  1.000000e-01"
      ]
     },
     "metadata": {},
     "output_type": "display_data"
    }
   ],
   "source": [
    "display(Markdown(\"## **Результаты**\\n---\"))\n",
    "pretty_results(results)"
   ]
  },
  {
   "cell_type": "code",
   "execution_count": null,
   "id": "85cbac75",
   "metadata": {},
   "outputs": [],
   "source": []
  },
  {
   "cell_type": "code",
   "execution_count": null,
   "id": "b483051d",
   "metadata": {},
   "outputs": [],
   "source": []
  }
 ],
 "metadata": {
  "kernelspec": {
   "display_name": "ml",
   "language": "python",
   "name": "python3"
  },
  "language_info": {
   "codemirror_mode": {
    "name": "ipython",
    "version": 3
   },
   "file_extension": ".py",
   "mimetype": "text/x-python",
   "name": "python",
   "nbconvert_exporter": "python",
   "pygments_lexer": "ipython3",
   "version": "3.12.7"
  }
 },
 "nbformat": 4,
 "nbformat_minor": 5
}
